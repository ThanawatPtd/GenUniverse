{
  "cells": [
    {
      "cell_type": "code",
      "execution_count": 1,
      "metadata": {
        "gather": {
          "logged": 1716804388482
        }
      },
      "outputs": [],
      "source": [
        "# Import required libraries  \n",
        "import os\n",
        "import textwrap\n",
        "from openai import AzureOpenAI, DefaultHttpxClient\n",
        "from dotenv import load_dotenv, find_dotenv\n",
        "from azure.core.credentials import AzureKeyCredential  \n",
        "from azure.search.documents import SearchClient  \n",
        "from azure.search.documents.models import Vector"
      ]
    },
    {
      "cell_type": "markdown",
      "metadata": {},
      "source": [
        "# Set Up"
      ]
    },
    {
      "cell_type": "code",
      "execution_count": 2,
      "metadata": {
        "gather": {
          "logged": 1716804390784
        }
      },
      "outputs": [],
      "source": [
        "# Configure environment variables  \n",
        "load_dotenv(find_dotenv('credential.env'), override=True)\n",
        "\n",
        "# Azure AI Search\n",
        "service_endpoint = os.environ['AZURE_AI_SEARCH_ENDPOINT']\n",
        "key = os.environ['AZURE_AI_SEARCH_KEY']\n",
        "index_name = os.environ['AZURE_AI_SEARCH_INDEX_NAME']\n",
        "credential = AzureKeyCredential(key)\n",
        "\n",
        "#Azure OpenAI\n",
        "client = AzureOpenAI(\n",
        "  api_key = os.environ['AZURE_OPENAI_API_KEY'],  # this is also the default, it can be omitted\n",
        "  azure_endpoint = os.environ['AZURE_OPENAI_API_ENDPOINT'],\n",
        "  api_version = os.environ['AZURE_OPENAI_API_VERSION'],\n",
        "  http_client=DefaultHttpxClient(verify=False)\n",
        ")\n",
        "embedding_model = os.environ['EMBEDDING_MODEL_NAME']\n",
        "# gpt35turbo_model = os.environ['GPT35TURBO_MODEL_NAME']\n",
        "# gpt4turbo_model = os.environ['GPT4TURBO_MODEL_NAME']\n",
        "gpt4o_model = os.environ['GPT4O_MODEL_NAME']"
      ]
    },
    {
      "cell_type": "code",
      "execution_count": 3,
      "metadata": {},
      "outputs": [],
      "source": [
        "# Declare useful method\n",
        "def check_and_create_folder(folder_name):\n",
        "    if not os.path.exists(folder_name):\n",
        "        os.makedirs(folder_name)\n",
        "        print(f\"The folder '{folder_name}' has been created.\")\n",
        "    else:\n",
        "        print(f\"The folder '{folder_name}' already exists.\")\n",
        "\n",
        "def print_error_message(message, prefix_message='Error: '):\n",
        "    print(f\"\\033[1;31m{prefix_message}\\033[0m{message}\")\n",
        "\n",
        "def print_warning_message(message, prefix_message='Warning: '):\n",
        "    print(f\"\\033[1;33m{prefix_message}\\033[0m{message}\")\n",
        "    \n",
        "def print_success_message(message, prefix_message='Success: '):\n",
        "    print(f\"\\033[1;32m{prefix_message}\\033[0m{message}\")"
      ]
    },
    {
      "cell_type": "code",
      "execution_count": 4,
      "metadata": {
        "gather": {
          "logged": 1716807286020
        },
        "jupyter": {
          "outputs_hidden": false,
          "source_hidden": false
        },
        "nteract": {
          "transient": {
            "deleting": false
          }
        }
      },
      "outputs": [],
      "source": [
        "def generate_embeddings(text):\n",
        "    response = client.embeddings.create(input=text, model=embedding_model)\n",
        "    return response.data[0].embedding\n",
        "\n",
        "\n",
        "def get_chat_completion(messages, model):\n",
        "    print(f'Generating answer using {model} LLM model')\n",
        "    response = client.chat.completions.create(\n",
        "        model=model,\n",
        "        messages=messages,\n",
        "        max_tokens=800\n",
        "\n",
        "    )\n",
        "    return response.choices[0].message.content\n",
        "\n",
        "def format_retrieved_documents(data_list):\n",
        "    retrieved_documents = \"\"\n",
        "    for item in data_list:\n",
        "        # Extract the 'content' and 'sourcepage' values\n",
        "        content = item.get('content', '')\n",
        "        sourcepage = item.get('sourcepage', '')\n",
        "        retrieved_documents += \"sourcepage: \" + sourcepage + \", content: \" + content + \"\\n\"\n",
        "    return retrieved_documents"
      ]
    },
    {
      "cell_type": "markdown",
      "metadata": {},
      "source": [
        "# Query"
      ]
    },
    {
      "cell_type": "code",
      "execution_count": 5,
      "metadata": {},
      "outputs": [
        {
          "name": "stdout",
          "output_type": "stream",
          "text": [
            "ช่วยบอกเกี่ยวกับประเภทของน้ำมันที่ exxon mobil มีหน่อย\n"
          ]
        }
      ],
      "source": [
        "query = input(\"What would you like to ask.\")\n",
        "print(query)"
      ]
    },
    {
      "attachments": {},
      "cell_type": "markdown",
      "metadata": {},
      "source": [
        "## AI search"
      ]
    },
    {
      "cell_type": "code",
      "execution_count": 6,
      "metadata": {
        "gather": {
          "logged": 1716807484505
        }
      },
      "outputs": [
        {
          "name": "stderr",
          "output_type": "stream",
          "text": [
            "/Users/bhanujaya/Developer/Exxon3/GenUniverse/.venv/lib/python3.9/site-packages/urllib3/__init__.py:35: NotOpenSSLWarning: urllib3 v2 only supports OpenSSL 1.1.1+, currently the 'ssl' module is compiled with 'LibreSSL 2.8.3'. See: https://github.com/urllib3/urllib3/issues/3020\n",
            "  warnings.warn(\n"
          ]
        },
        {
          "name": "stdout",
          "output_type": "stream",
          "text": [
            "\u001b[1;33mSource Page: \u001b[0mmobil-super-all-in-one-protection-5w-40-0.pdf\n",
            "\u001b[1;33mSearch Score: \u001b[0m0.01315789483487606\n",
            "\u001b[1;33mContent: \u001b[0mเราขอแนะนำน้ำมัน Mobil Super 3000 All-In-One Protection...\n",
            "\u001b[1;33mReranker Score: \u001b[0m2.291781425476074\n",
            "\u001b[1;33mCaption: \u001b[0m<em>เราขอแนะนำน้ำมัน Mobil Sup</em>er 3000 All-In-One Protection โดยเฉพาะเมื่อคุณต้องพบกับเงื่อนไขการใช้งานที่ต้องการการหล่อลื่นอย่างสม่ำเสมอ ซึ่งน้ำมันชนิดนี้สามารถช่วยต้านทานความเสียหายที่เกิดจากความเค้นเครื่องยนต์สูงที่มักเกิดขึ้น ;: · เทคโนโลยีเครื่องยนต์เกือบทุกระบบ · เหมาะทั้งสำหรับเครื่องยนต์เบนซินและดีเซล · รถยนต์นั่ง รถ SUV รถบรรทุกเบา และรถตู้ · ก...\n",
            "\n",
            "\u001b[1;33mSource Page: \u001b[0mmobil-1-0.pdf\n",
            "\u001b[1;33mSearch Score: \u001b[0m0.0117647061124444\n",
            "\u001b[1;33mContent: \u001b[0mMobil 1 TM สูตรใหม่ Triple Action Power+ สมรรถนะเครื่องยนต์ ลดการสึกหรอ...\n",
            "\u001b[1;33mReranker Score: \u001b[0m2.2473576068878174\n",
            "\u001b[1;33mCaption: \u001b[0mTriple Action Power+ เป็นน้ำมันเครื่องสังเคราะห์แท้ขั้นสูงที่มอบสมรรถนะ การปกป้อง และความสะอาดของเครื่องยนต์ที่ยอดเยี่ยม พร้อมทั้งประโยชน์เพิ่มเติมด้านการประหยัดเชื้อเพลิง · สมรรถนะเครื่องยนต์: ทรงพลังยาวนาน • ปกป้อง: ดีกว่า 30 เท่า1ภายใต้ความร้อนสูง · ทำความสะอาด: ป้องกันสารปนเปื้อนกรดอันตราย ที่ทำลายเครื่องยนต์ได้ถึง 99.9%2 · เพิ่มประสิทธิภาพเครื...\n",
            "\n",
            "\u001b[1;33mSource Page: \u001b[0mmobil-1-turbo-diesel-pickup-5w40-0.pdf\n",
            "\u001b[1;33mSearch Score: \u001b[0m0.009523809887468815\n",
            "\u001b[1;33mContent: \u001b[0mการใช้งานใช้...\n",
            "\u001b[1;33mReranker Score: \u001b[0m2.234719753265381\n",
            "\u001b[1;33mCaption: \u001b[0mการใช้งานใช้ ผลดีจากการพัฒนาที่เกิดจากความร่วมมือที่ครอบคลุมกว้างขวางกับบรรดาผู้ผลิตรายหลักและการใช้งานเทคโนโลยีการหล่อลื่นล่าสุด Mobil 1 Turbo Diesel 5W-40 จึงได้รับการแนะนำสำหรับรถปิคอัพ รถเอนกประสงค์ (SUV) และรถยนต์นั่งโดยสารที่ใช้เครื่องยนต์ดีเซลรวมไปถึงยานยนต์ระบบคอมมอนเรล เทอร์โบชาร์จ และอินเตอร์คูลเลอร์ Mobil 1 Turbo Diesel 5W-40 ช่วยให้ได้ก...\n",
            "\n",
            "\u001b[1;32m-----AI Search JSON Output [Semantic Hybrid Search with reranking]-----\u001b[0m\n"
          ]
        },
        {
          "data": {
            "text/plain": [
              "[{'sourcepage': 'mobil-super-all-in-one-protection-5w-40-0.pdf',\n",
              "  'content': 'เราขอแนะนำน้ำมัน Mobil Super 3000 All-In-One Protection โดยเฉพาะเมื่อคุณต้องพบกับเงื่อนไขการใช้งานที่ต้องการการหล่อลื่นอย่างสม่ำเสมอ ซึ่งน้ำมันชนิดนี้สามารถช่วยต้านทานความเสียหายที่เกิดจากความเค้นเครื่องยนต์สูงที่มักเกิดขึ้น ;:\\n· เทคโนโลยีเครื่องยนต์เกือบทุกระบบ\\n· เหมาะทั้งสำหรับเครื่องยนต์เบนซินและดีเซล\\n· รถยนต์นั่ง รถ SUV รถบรรทุกเบา และรถตู้\\n· การควบคุมความเร็วบนทางหลวงและการขับขี่ในเมืองแบบหยุดแล้วไป\\n· สภาวะการทำงานระดับปานกลางจนถึงบ่อยครั งที่รุนแรง\\n• เครื่องยนต์เทอร์โบชาร์จและไดเร็กอินเจ็คชัน\\n• เครื่องยนต์สมรรถนะสูง\\nให้ศึกษาในคู่มือสำหรับผู้ใช้ยานยนต์เพื่อตรวจสอบเกรดความหนืดที่แนะนำและข้อกำหนดสำหรับยานพาหนะเฉพาะของคุณเสมอ\\nข้อกำหนดและการรับรอง\\nผลิตภัณฑ์นี้ได้รับการแนะนำสำหรับการใช้งานที่ต้องการ:\\nAPI CF\\nAPI CF-4\\nAPI CG-4\\nผลิตภัณฑ์นี้ผ่านหรือเกินกว่าข้อกำหนดของ:\\nAPI SM\\nACEA A3/B3\\nAPI SN\\nAPI SN PLUS\\nACEA A3/B4\\nคุณสมบัติและคุณลักษณะที่กำหนด\\nคุณสมบัติ\\nเกรด\\nSAE 5W-40\\nMini-Rotary Viscometer, Apparent Viscosity, -35 C, mPa.s, ASTM D4684\\n35100\\nจุดไหลเท, °C, ASTM D97\\n-39\\nดัชนีความหนืด, ASTM D2270\\n166\\nค่าความเป็นด่าง, mgKOH/g, ASTM D2896\\n11.2\\nความหนืดไคนีมาติก @40 C, mm2/s, ASTM D445\\n85\\nความหนืดไคนีมาติก @100 C, mm2/s, ASTM D445\\n13.7\\nHi-Temp Hi-Shear Viscosity @ 150 C ',\n",
              "  '@search.score': 0.01315789483487606,\n",
              "  '@search.reranker_score': 2.291781425476074,\n",
              "  '@search.highlights': None,\n",
              "  '@search.captions': [<azure.search.documents._generated.models._models_py3.CaptionResult at 0x11664a5b0>]},\n",
              " {'sourcepage': 'mobil-1-0.pdf',\n",
              "  'content': 'Mobil 1 TM สูตรใหม่ Triple Action Power+\\nสมรรถนะเครื่องยนต์\\nลดการสึกหรอ ทั้งในสภาวะปกติและสมบุกสมบัน เพื่อยืดอายุเครื่องยนต์\\nปกป้อง ปกป้องเครื่องยนต์จากความร้อนสูง ป้องกันการเสียหาย\\nทำความสะอาด\\nป้องกันการสะสมของสารปนเปื้อนและตะกอนน้ำมัน ให้เครื่องยนต์สะอาดขึ้น\\nMobil 1™ Triple Action Power+\\nMobil 1 TM สูตรใหม่ Triple Action Power+ เป็นน้ำมันเครื่องสังเคราะห์แท้ขั้นสูงที่มอบสมรรถนะ การปกป้อง และความสะอาดของเครื่องยนต์ที่ยอดเยี่ยม พร้อมทั้งประโยชน์เพิ่มเติมด้านการประหยัดเชื้อเพลิง\\n· สมรรถนะเครื่องยนต์: ทรงพลังยาวนาน\\n• ปกป้อง: ดีกว่า 30 เท่า1ภายใต้ความร้อนสูง\\n· ทำความสะอาด: ป้องกันสารปนเปื้อนกรดอันตราย ที่ทำลายเครื่องยนต์ได้ถึง 99.9%2\\n· เพิ่มประสิทธิภาพเครื่องยนต์: เพื่อการประหยัดเชื้อเพลิงที่ดีขึ้นถึง 8.4%3\\n0W-20 | 0W-40\\nสถานที่ซื้อ\\nMobil 1™ Triple Action Power\\nMobil 1TM Triple Action Power น้ำมันเครื่องสังเคราะห์แท้ขั้นสูงที่มอบสมรรถนะ การปกป้อง และความสะอาดของเครื่องยนต์ที่ยอดเยี่ยม\\no สมรรถนะเครื่องยนต์: ให้เครื่องยนต์ทำงานเหมือนใหม่อยู่เสมอ\\n• ปกป้อง: ดีกว่า 10 เท่า4 ภายใต้ความร้อนสูง\\n• ทำความสะอาด: จัดการกับตะกอนน้ำมันด้วยสารทำความสะอาด 5W-30 | FS X2 5W-50\\nสถานที่ซื้อ\\nMobil 1TM ESP ',\n",
              "  '@search.score': 0.0117647061124444,\n",
              "  '@search.reranker_score': 2.2473576068878174,\n",
              "  '@search.highlights': None,\n",
              "  '@search.captions': [<azure.search.documents._generated.models._models_py3.CaptionResult at 0x11664a640>]},\n",
              " {'sourcepage': 'mobil-1-turbo-diesel-pickup-5w40-0.pdf',\n",
              "  'content': 'การใช้งานใช้\\nผลดีจากการพัฒนาที่เกิดจากความร่วมมือที่ครอบคลุมกว้างขวางกับบรรดาผู้ผลิตรายหลักและการใช้งานเทคโนโลยีการหล่อลื่นล่าสุด Mobil 1 Turbo Diesel 5W-40 จึงได้รับการแนะนำสำหรับรถปิคอัพ รถเอนกประสงค์ (SUV) และรถยนต์นั่งโดยสารที่ใช้เครื่องยนต์ดีเซลรวมไปถึงยานยนต์ระบบคอมมอนเรล เทอร์โบชาร์จ และอินเตอร์คูลเลอร์ Mobil 1 Turbo Diesel 5W-40 ช่วยให้ได้การปกป้องและสมรรถนะสูงสุดแม้แต่ในบางสภาวะการขับขี่เป็นระยะเวลานาน\\nให้ศึกษาในคู่มือสำหรับผู้ใช้ยานยนต์เพื่อตรวจสอบเกรดความหนืดที่แน นำและข้อกำหนดสำหรับยานพาหนะเฉพาะของคุณเสมอ\\n• ทุกสภาวะการทำงาน ตั้งแต่ระดับเบาไปจนถึงระดับรุนแรง\\n· เทคโนโลยีเครื่องยนต์ล่าสุด\\n• เครื่องยนต์ดีเซลในรถปิคอัพ รถเอนกประสงค์ (SUV) รถยนต์โดยสารส่วนบุคคลและรถบรรทุกเบาและรถตู้\\n• สภาวะการทำงานที่รุนแรง\\n· เทอร์โบชาร์จเจอร์\\n• เครื่องยนต์ดีเซลสมรรถนะสูง\\n· การขับขี่แบบออฟโรดที่มีฝุ่นและโคลนโดยทั่วไป\\n· การลากพ่วงและฉุดลากโหลดน้ำหนักสูง\\nข้อกำหนดและการรับรอง\\nMobil 1 Turbo Diesel 5W-40 ได้ตามหรือเกินกว่าข้อกำหนดของ: AP\\nC-4 PLUS, CI-4, CH-4, SL, SJ\\nACEA\\nE7/64\\nACEA/EMA/JAMA\\nGLOBAL DHD-1\\nFORD\\nWSS-M2C171-D\\nDEO (w/o DPD Equipped Vehicles)\\nISUZU\\nจากข้อมูลของ ExxonMobil น้ำมันหล่อลื่น Mobil 1 Turbo Diesel 5W-40 อยู่ในระดับคุณ ',\n",
              "  '@search.score': 0.009523809887468815,\n",
              "  '@search.reranker_score': 2.234719753265381,\n",
              "  '@search.highlights': None,\n",
              "  '@search.captions': [<azure.search.documents._generated.models._models_py3.CaptionResult at 0x11664a6d0>]}]"
            ]
          },
          "execution_count": 6,
          "metadata": {},
          "output_type": "execute_result"
        }
      ],
      "source": [
        "\n",
        "search_client = SearchClient(\n",
        "    service_endpoint, index_name, credential=credential)\n",
        "vector = Vector(value=generate_embeddings(query), k=3, fields=\"contentVector\")\n",
        "\n",
        "results = search_client.search(\n",
        "    search_text=query,\n",
        "    vectors=[vector],\n",
        "    select=[\"content\", \"sourcepage\"],\n",
        "    query_type=\"semantic\", query_language=\"en-us\", semantic_configuration_name='my-semantic-config', query_caption=\"extractive\", query_answer=\"extractive\",\n",
        "    top=3\n",
        ")\n",
        "\n",
        "result_list = []\n",
        "# Retrieve top k relevance chunked document from Azure AI Search\n",
        "for result in results:\n",
        "    print_warning_message(f\"{result['sourcepage']}\", \"Source Page: \")\n",
        "    print_warning_message(f\"{result['@search.score']}\", \"Search Score: \")\n",
        "    print_warning_message(f\"{textwrap.shorten(result['content'], width=100, placeholder='...')}\", \"Content: \")\n",
        "    print_warning_message(f\"{result['@search.reranker_score']}\", \"Reranker Score: \")\n",
        "    result_list.append(result)\n",
        "\n",
        "    captions = result[\"@search.captions\"]\n",
        "    if captions:\n",
        "        caption = captions[0]\n",
        "        if caption.highlights:\n",
        "            print_warning_message(f\"{caption.highlights}\\n\", \"Caption: \")\n",
        "        else:\n",
        "            print_warning_message(f\"{caption.text}\\n\", \"Caption: \")\n",
        "\n",
        "# Generate semantic answers based on top k relevance chunked documents\n",
        "semantic_answers = results.get_answers()\n",
        "for answer in semantic_answers:\n",
        "    if answer.highlights:\n",
        "        print_warning_message(f\"{answer.highlights}\", \"Semantic Answer: \")\n",
        "    else:\n",
        "        print_warning_message(f\"{answer.text}\", \"Semantic Answer: \")\n",
        "    print_warning_message(f\"{answer.score}\\n\", \"Semantic Answer Score: \")\n",
        "\n",
        "print_success_message(\"\", \"-----AI Search JSON Output [Semantic Hybrid Search with reranking]-----\")\n",
        "result_list"
      ]
    },
    {
      "cell_type": "markdown",
      "metadata": {},
      "source": [
        "# Prompt"
      ]
    },
    {
      "cell_type": "code",
      "execution_count": 7,
      "metadata": {
        "gather": {
          "logged": 1716807539497
        },
        "jupyter": {
          "outputs_hidden": false,
          "source_hidden": false
        },
        "nteract": {
          "transient": {
            "deleting": false
          }
        }
      },
      "outputs": [
        {
          "name": "stdout",
          "output_type": "stream",
          "text": [
            "\n",
            "## On your role\n",
            "- You are a chatbot for ExxonMobil named Mobilly, designed to help answer customer questions based on retrieved documents and relevant knowledge to refine the answers.\n",
            "- You always respond in Thai.\n",
            "- Do not include greetings in your responses.\n",
            "- Be polite and answer as a kind, helpful assistant.\n",
            "- Mention the source of your answers.\n",
            "\n",
            "## Retrieved documents\n",
            "sourcepage: mobil-super-all-in-one-protection-5w-40-0.pdf, content: เราขอแนะนำน้ำมัน Mobil Super 3000 All-In-One Protection โดยเฉพาะเมื่อคุณต้องพบกับเงื่อนไขการใช้งานที่ต้องการการหล่อลื่นอย่างสม่ำเสมอ ซึ่งน้ำมันชนิดนี้สามารถช่วยต้านทานความเสียหายที่เกิดจากความเค้นเครื่องยนต์สูงที่มักเกิดขึ้น ;:\n",
            "· เทคโนโลยีเครื่องยนต์เกือบทุกระบบ\n",
            "· เหมาะทั้งสำหรับเครื่องยนต์เบนซินและดีเซล\n",
            "· รถยนต์นั่ง รถ SUV รถบรรทุกเบา และรถตู้\n",
            "· การควบคุมความเร็วบนทางหลวงและการขับขี่ในเมืองแบบหยุดแล้วไป\n",
            "· สภาวะการทำงานระดับปานกลางจนถึงบ่อยครั งที่รุนแรง\n",
            "• เครื่องยนต์เทอร์โบชาร์จและไดเร็กอินเจ็คชัน\n",
            "• เครื่องยนต์สมรรถนะสูง\n",
            "ให้ศึกษาในคู่มือสำหรับผู้ใช้ยานยนต์เพื่อตรวจสอบเกรดความหนืดที่แนะนำและข้อกำหนดสำหรับยานพาหนะเฉพาะของคุณเสมอ\n",
            "ข้อกำหนดและการรับรอง\n",
            "ผลิตภัณฑ์นี้ได้รับการแนะนำสำหรับการใช้งานที่ต้องการ:\n",
            "API CF\n",
            "API CF-4\n",
            "API CG-4\n",
            "ผลิตภัณฑ์นี้ผ่านหรือเกินกว่าข้อกำหนดของ:\n",
            "API SM\n",
            "ACEA A3/B3\n",
            "API SN\n",
            "API SN PLUS\n",
            "ACEA A3/B4\n",
            "คุณสมบัติและคุณลักษณะที่กำหนด\n",
            "คุณสมบัติ\n",
            "เกรด\n",
            "SAE 5W-40\n",
            "Mini-Rotary Viscometer, Apparent Viscosity, -35 C, mPa.s, ASTM D4684\n",
            "35100\n",
            "จุดไหลเท, °C, ASTM D97\n",
            "-39\n",
            "ดัชนีความหนืด, ASTM D2270\n",
            "166\n",
            "ค่าความเป็นด่าง, mgKOH/g, ASTM D2896\n",
            "11.2\n",
            "ความหนืดไคนีมาติก @40 C, mm2/s, ASTM D445\n",
            "85\n",
            "ความหนืดไคนีมาติก @100 C, mm2/s, ASTM D445\n",
            "13.7\n",
            "Hi-Temp Hi-Shear Viscosity @ 150 C \n",
            "sourcepage: mobil-1-0.pdf, content: Mobil 1 TM สูตรใหม่ Triple Action Power+\n",
            "สมรรถนะเครื่องยนต์\n",
            "ลดการสึกหรอ ทั้งในสภาวะปกติและสมบุกสมบัน เพื่อยืดอายุเครื่องยนต์\n",
            "ปกป้อง ปกป้องเครื่องยนต์จากความร้อนสูง ป้องกันการเสียหาย\n",
            "ทำความสะอาด\n",
            "ป้องกันการสะสมของสารปนเปื้อนและตะกอนน้ำมัน ให้เครื่องยนต์สะอาดขึ้น\n",
            "Mobil 1™ Triple Action Power+\n",
            "Mobil 1 TM สูตรใหม่ Triple Action Power+ เป็นน้ำมันเครื่องสังเคราะห์แท้ขั้นสูงที่มอบสมรรถนะ การปกป้อง และความสะอาดของเครื่องยนต์ที่ยอดเยี่ยม พร้อมทั้งประโยชน์เพิ่มเติมด้านการประหยัดเชื้อเพลิง\n",
            "· สมรรถนะเครื่องยนต์: ทรงพลังยาวนาน\n",
            "• ปกป้อง: ดีกว่า 30 เท่า1ภายใต้ความร้อนสูง\n",
            "· ทำความสะอาด: ป้องกันสารปนเปื้อนกรดอันตราย ที่ทำลายเครื่องยนต์ได้ถึง 99.9%2\n",
            "· เพิ่มประสิทธิภาพเครื่องยนต์: เพื่อการประหยัดเชื้อเพลิงที่ดีขึ้นถึง 8.4%3\n",
            "0W-20 | 0W-40\n",
            "สถานที่ซื้อ\n",
            "Mobil 1™ Triple Action Power\n",
            "Mobil 1TM Triple Action Power น้ำมันเครื่องสังเคราะห์แท้ขั้นสูงที่มอบสมรรถนะ การปกป้อง และความสะอาดของเครื่องยนต์ที่ยอดเยี่ยม\n",
            "o สมรรถนะเครื่องยนต์: ให้เครื่องยนต์ทำงานเหมือนใหม่อยู่เสมอ\n",
            "• ปกป้อง: ดีกว่า 10 เท่า4 ภายใต้ความร้อนสูง\n",
            "• ทำความสะอาด: จัดการกับตะกอนน้ำมันด้วยสารทำความสะอาด 5W-30 | FS X2 5W-50\n",
            "สถานที่ซื้อ\n",
            "Mobil 1TM ESP \n",
            "sourcepage: mobil-1-turbo-diesel-pickup-5w40-0.pdf, content: การใช้งานใช้\n",
            "ผลดีจากการพัฒนาที่เกิดจากความร่วมมือที่ครอบคลุมกว้างขวางกับบรรดาผู้ผลิตรายหลักและการใช้งานเทคโนโลยีการหล่อลื่นล่าสุด Mobil 1 Turbo Diesel 5W-40 จึงได้รับการแนะนำสำหรับรถปิคอัพ รถเอนกประสงค์ (SUV) และรถยนต์นั่งโดยสารที่ใช้เครื่องยนต์ดีเซลรวมไปถึงยานยนต์ระบบคอมมอนเรล เทอร์โบชาร์จ และอินเตอร์คูลเลอร์ Mobil 1 Turbo Diesel 5W-40 ช่วยให้ได้การปกป้องและสมรรถนะสูงสุดแม้แต่ในบางสภาวะการขับขี่เป็นระยะเวลานาน\n",
            "ให้ศึกษาในคู่มือสำหรับผู้ใช้ยานยนต์เพื่อตรวจสอบเกรดความหนืดที่แน นำและข้อกำหนดสำหรับยานพาหนะเฉพาะของคุณเสมอ\n",
            "• ทุกสภาวะการทำงาน ตั้งแต่ระดับเบาไปจนถึงระดับรุนแรง\n",
            "· เทคโนโลยีเครื่องยนต์ล่าสุด\n",
            "• เครื่องยนต์ดีเซลในรถปิคอัพ รถเอนกประสงค์ (SUV) รถยนต์โดยสารส่วนบุคคลและรถบรรทุกเบาและรถตู้\n",
            "• สภาวะการทำงานที่รุนแรง\n",
            "· เทอร์โบชาร์จเจอร์\n",
            "• เครื่องยนต์ดีเซลสมรรถนะสูง\n",
            "· การขับขี่แบบออฟโรดที่มีฝุ่นและโคลนโดยทั่วไป\n",
            "· การลากพ่วงและฉุดลากโหลดน้ำหนักสูง\n",
            "ข้อกำหนดและการรับรอง\n",
            "Mobil 1 Turbo Diesel 5W-40 ได้ตามหรือเกินกว่าข้อกำหนดของ: AP\n",
            "C-4 PLUS, CI-4, CH-4, SL, SJ\n",
            "ACEA\n",
            "E7/64\n",
            "ACEA/EMA/JAMA\n",
            "GLOBAL DHD-1\n",
            "FORD\n",
            "WSS-M2C171-D\n",
            "DEO (w/o DPD Equipped Vehicles)\n",
            "ISUZU\n",
            "จากข้อมูลของ ExxonMobil น้ำมันหล่อลื่น Mobil 1 Turbo Diesel 5W-40 อยู่ในระดับคุณ \n",
            "\n",
            "\n",
            "## Instructions\n",
            "- Only answer questions related to the topics covered in the retrieved documents.\n",
            "- If a question is outside the scope of the retrieved documents, try to answer based on your knowledge.\n",
            "\n"
          ]
        }
      ],
      "source": [
        "system_prompt = f\"\"\"\n",
        "## On your role\n",
        "- You are a chatbot for ExxonMobil named Mobilly, designed to help answer customer questions based on retrieved documents and relevant knowledge to refine the answers.\n",
        "- You always respond in Thai.\n",
        "- Do not include greetings in your responses.\n",
        "- Be polite and answer as a kind, helpful assistant.\n",
        "- Mention the source of your answers.\n",
        "\n",
        "## Retrieved documents\n",
        "{format_retrieved_documents(result_list)}\n",
        "\n",
        "## Instructions\n",
        "- Only answer questions related to the topics covered in the retrieved documents.\n",
        "- If a question is outside the scope of the retrieved documents, try to answer based on your knowledge.\n",
        "\"\"\"\n",
        "print(system_prompt)\n"
      ]
    },
    {
      "cell_type": "markdown",
      "metadata": {},
      "source": [
        "## GEMMA 2"
      ]
    },
    {
      "cell_type": "code",
      "execution_count": 9,
      "metadata": {},
      "outputs": [],
      "source": [
        "# !pip install google-generativeai\n",
        "# !pip install google-ai-generativelanguage"
      ]
    },
    {
      "cell_type": "code",
      "execution_count": 10,
      "metadata": {},
      "outputs": [
        {
          "name": "stderr",
          "output_type": "stream",
          "text": [
            "/Users/bhanujaya/Developer/Exxon3/GenUniverse/.venv/lib/python3.9/site-packages/tqdm/auto.py:21: TqdmWarning: IProgress not found. Please update jupyter and ipywidgets. See https://ipywidgets.readthedocs.io/en/stable/user_install.html\n",
            "  from .autonotebook import tqdm as notebook_tqdm\n"
          ]
        }
      ],
      "source": [
        "import google\n",
        "import google.generativeai as genai\n",
        "import os\n",
        "\n",
        "genai.configure(api_key=os.environ[\"API_KEY\"])\n",
        "\n",
        "model = genai.GenerativeModel('gemini-1.5-flash')"
      ]
    },
    {
      "cell_type": "code",
      "execution_count": 11,
      "metadata": {},
      "outputs": [],
      "source": [
        "model = genai.GenerativeModel('gemini-1.5-flash',\n",
        "                              generation_config={\"response_mime_type\": \"application/json\"})\n",
        "\n",
        "prompt = query + system_prompt\n",
        "\n",
        "response = model.generate_content(prompt)\n"
      ]
    },
    {
      "cell_type": "code",
      "execution_count": 12,
      "metadata": {},
      "outputs": [
        {
          "name": "stdout",
          "output_type": "stream",
          "text": [
            "{\"น้ำมันหล่อลื่นของเอ็กซอนโมบิลมีหลายประเภท ขึ้นอยู่กับความต้องการของเครื่องยนต์และการใช้งาน คุณสามารถดูข้อมูลเพิ่มเติมได้จากคู่มือผู้ใช้ยานยนต์ของคุณ\": \"Mobil Super 3000 All-In-One Protection เป็นน้ำมันเครื่องที่ออกแบบมาสำหรับเครื่องยนต์ทุกประเภท ทั้งเบนซินและดีเซล เหมาะสำหรับรถยนต์นั่ง รถ SUV รถบรรทุกเบา และรถตู้  นอกจากนี้ยังมีน้ำมันเครื่อง Mobil 1 ซึ่งแบ่งออกเป็น 2 รุ่น คือ Mobil 1 Triple Action Power+ และ Mobil 1 ESP  น้ำมันเครื่อง Mobil 1 Triple Action Power+ เป็นน้ำมันเครื่องสังเคราะห์แท้ขั้นสูงที่มอบสมรรถนะ การปกป้อง และความสะอาดของเครื่องยนต์ที่ยอดเยี่ยม  ส่วน Mobil 1 ESP เป็นน้ำมันเครื่องที่ออกแบบมาเพื่อช่วยเพิ่มประสิทธิภาพของเครื่องยนต์และลดการปล่อยมลพิษ  นอกจากนี้ยังมี Mobil 1 Turbo Diesel 5W-40 ซึ่งเป็นน้ำมันเครื่องสังเคราะห์แท้ขั้นสูงที่ออกแบบมาเพื่อให้การปกป้องและสมรรถนะสูงสุดสำหรับเครื่องยนต์ดีเซล คุณสามารถดูข้อมูลเพิ่มเติมเกี่ยวกับน้ำมันเครื่องของเอ็กซอนโมบิลได้จากเอกสารที่คุณให้มา  \"}\n",
            "\n"
          ]
        }
      ],
      "source": [
        "print(response.text)"
      ]
    },
    {
      "cell_type": "code",
      "execution_count": null,
      "metadata": {},
      "outputs": [],
      "source": []
    },
    {
      "cell_type": "code",
      "execution_count": null,
      "metadata": {},
      "outputs": [],
      "source": []
    },
    {
      "cell_type": "code",
      "execution_count": null,
      "metadata": {},
      "outputs": [],
      "source": []
    },
    {
      "cell_type": "code",
      "execution_count": null,
      "metadata": {},
      "outputs": [],
      "source": []
    },
    {
      "cell_type": "code",
      "execution_count": null,
      "metadata": {},
      "outputs": [],
      "source": []
    },
    {
      "cell_type": "code",
      "execution_count": null,
      "metadata": {},
      "outputs": [],
      "source": []
    },
    {
      "cell_type": "code",
      "execution_count": null,
      "metadata": {},
      "outputs": [],
      "source": []
    },
    {
      "cell_type": "code",
      "execution_count": null,
      "metadata": {},
      "outputs": [],
      "source": []
    },
    {
      "cell_type": "code",
      "execution_count": null,
      "metadata": {},
      "outputs": [],
      "source": []
    },
    {
      "cell_type": "code",
      "execution_count": null,
      "metadata": {},
      "outputs": [],
      "source": []
    },
    {
      "cell_type": "code",
      "execution_count": null,
      "metadata": {},
      "outputs": [],
      "source": []
    },
    {
      "cell_type": "code",
      "execution_count": null,
      "metadata": {},
      "outputs": [],
      "source": []
    },
    {
      "cell_type": "code",
      "execution_count": null,
      "metadata": {},
      "outputs": [],
      "source": []
    },
    {
      "cell_type": "code",
      "execution_count": null,
      "metadata": {},
      "outputs": [],
      "source": []
    },
    {
      "cell_type": "code",
      "execution_count": null,
      "metadata": {},
      "outputs": [],
      "source": []
    },
    {
      "cell_type": "code",
      "execution_count": null,
      "metadata": {},
      "outputs": [],
      "source": []
    },
    {
      "cell_type": "code",
      "execution_count": null,
      "metadata": {},
      "outputs": [],
      "source": []
    },
    {
      "cell_type": "code",
      "execution_count": null,
      "metadata": {},
      "outputs": [],
      "source": []
    },
    {
      "cell_type": "code",
      "execution_count": null,
      "metadata": {},
      "outputs": [],
      "source": []
    },
    {
      "cell_type": "code",
      "execution_count": null,
      "metadata": {},
      "outputs": [],
      "source": []
    },
    {
      "cell_type": "code",
      "execution_count": null,
      "metadata": {},
      "outputs": [],
      "source": []
    },
    {
      "cell_type": "code",
      "execution_count": null,
      "metadata": {},
      "outputs": [],
      "source": []
    },
    {
      "cell_type": "code",
      "execution_count": null,
      "metadata": {},
      "outputs": [],
      "source": []
    },
    {
      "cell_type": "code",
      "execution_count": null,
      "metadata": {},
      "outputs": [],
      "source": []
    },
    {
      "cell_type": "code",
      "execution_count": null,
      "metadata": {},
      "outputs": [],
      "source": []
    },
    {
      "cell_type": "code",
      "execution_count": null,
      "metadata": {},
      "outputs": [],
      "source": []
    },
    {
      "cell_type": "code",
      "execution_count": null,
      "metadata": {},
      "outputs": [],
      "source": []
    },
    {
      "cell_type": "code",
      "execution_count": null,
      "metadata": {},
      "outputs": [],
      "source": []
    },
    {
      "cell_type": "code",
      "execution_count": null,
      "metadata": {},
      "outputs": [],
      "source": []
    },
    {
      "cell_type": "code",
      "execution_count": null,
      "metadata": {},
      "outputs": [],
      "source": []
    },
    {
      "cell_type": "code",
      "execution_count": null,
      "metadata": {},
      "outputs": [],
      "source": []
    },
    {
      "cell_type": "code",
      "execution_count": null,
      "metadata": {},
      "outputs": [],
      "source": []
    },
    {
      "cell_type": "code",
      "execution_count": null,
      "metadata": {},
      "outputs": [],
      "source": []
    },
    {
      "cell_type": "code",
      "execution_count": null,
      "metadata": {},
      "outputs": [],
      "source": []
    },
    {
      "cell_type": "code",
      "execution_count": null,
      "metadata": {},
      "outputs": [],
      "source": []
    },
    {
      "cell_type": "code",
      "execution_count": null,
      "metadata": {},
      "outputs": [],
      "source": []
    },
    {
      "cell_type": "code",
      "execution_count": null,
      "metadata": {},
      "outputs": [],
      "source": []
    },
    {
      "cell_type": "code",
      "execution_count": null,
      "metadata": {},
      "outputs": [],
      "source": []
    },
    {
      "cell_type": "code",
      "execution_count": null,
      "metadata": {},
      "outputs": [],
      "source": []
    },
    {
      "cell_type": "code",
      "execution_count": null,
      "metadata": {},
      "outputs": [],
      "source": []
    },
    {
      "cell_type": "code",
      "execution_count": null,
      "metadata": {},
      "outputs": [],
      "source": []
    },
    {
      "cell_type": "code",
      "execution_count": null,
      "metadata": {},
      "outputs": [],
      "source": []
    },
    {
      "cell_type": "code",
      "execution_count": null,
      "metadata": {},
      "outputs": [],
      "source": []
    },
    {
      "cell_type": "code",
      "execution_count": null,
      "metadata": {},
      "outputs": [],
      "source": []
    },
    {
      "cell_type": "code",
      "execution_count": null,
      "metadata": {},
      "outputs": [],
      "source": []
    },
    {
      "cell_type": "code",
      "execution_count": null,
      "metadata": {},
      "outputs": [],
      "source": []
    },
    {
      "cell_type": "code",
      "execution_count": null,
      "metadata": {},
      "outputs": [],
      "source": []
    },
    {
      "cell_type": "code",
      "execution_count": null,
      "metadata": {},
      "outputs": [],
      "source": []
    },
    {
      "cell_type": "code",
      "execution_count": null,
      "metadata": {},
      "outputs": [],
      "source": []
    },
    {
      "cell_type": "code",
      "execution_count": null,
      "metadata": {},
      "outputs": [],
      "source": []
    },
    {
      "cell_type": "code",
      "execution_count": null,
      "metadata": {},
      "outputs": [],
      "source": []
    },
    {
      "cell_type": "code",
      "execution_count": null,
      "metadata": {},
      "outputs": [],
      "source": []
    },
    {
      "cell_type": "code",
      "execution_count": null,
      "metadata": {},
      "outputs": [],
      "source": []
    },
    {
      "cell_type": "code",
      "execution_count": null,
      "metadata": {},
      "outputs": [],
      "source": []
    },
    {
      "cell_type": "code",
      "execution_count": null,
      "metadata": {},
      "outputs": [],
      "source": []
    },
    {
      "cell_type": "code",
      "execution_count": null,
      "metadata": {},
      "outputs": [],
      "source": []
    },
    {
      "cell_type": "code",
      "execution_count": null,
      "metadata": {},
      "outputs": [],
      "source": []
    },
    {
      "cell_type": "code",
      "execution_count": null,
      "metadata": {},
      "outputs": [],
      "source": []
    },
    {
      "cell_type": "code",
      "execution_count": null,
      "metadata": {},
      "outputs": [],
      "source": []
    },
    {
      "cell_type": "code",
      "execution_count": null,
      "metadata": {},
      "outputs": [],
      "source": []
    },
    {
      "cell_type": "code",
      "execution_count": null,
      "metadata": {},
      "outputs": [],
      "source": []
    },
    {
      "cell_type": "code",
      "execution_count": null,
      "metadata": {},
      "outputs": [],
      "source": []
    },
    {
      "cell_type": "code",
      "execution_count": null,
      "metadata": {},
      "outputs": [],
      "source": []
    },
    {
      "cell_type": "code",
      "execution_count": null,
      "metadata": {},
      "outputs": [],
      "source": []
    },
    {
      "cell_type": "code",
      "execution_count": null,
      "metadata": {},
      "outputs": [],
      "source": []
    },
    {
      "cell_type": "code",
      "execution_count": null,
      "metadata": {},
      "outputs": [],
      "source": []
    },
    {
      "cell_type": "code",
      "execution_count": null,
      "metadata": {},
      "outputs": [],
      "source": []
    },
    {
      "cell_type": "code",
      "execution_count": null,
      "metadata": {},
      "outputs": [],
      "source": []
    },
    {
      "cell_type": "code",
      "execution_count": null,
      "metadata": {},
      "outputs": [],
      "source": []
    },
    {
      "cell_type": "code",
      "execution_count": null,
      "metadata": {},
      "outputs": [],
      "source": []
    },
    {
      "cell_type": "code",
      "execution_count": null,
      "metadata": {},
      "outputs": [],
      "source": []
    },
    {
      "cell_type": "code",
      "execution_count": null,
      "metadata": {},
      "outputs": [],
      "source": []
    },
    {
      "cell_type": "code",
      "execution_count": null,
      "metadata": {},
      "outputs": [],
      "source": []
    },
    {
      "cell_type": "code",
      "execution_count": null,
      "metadata": {},
      "outputs": [],
      "source": []
    },
    {
      "cell_type": "code",
      "execution_count": null,
      "metadata": {},
      "outputs": [],
      "source": []
    },
    {
      "cell_type": "code",
      "execution_count": null,
      "metadata": {},
      "outputs": [],
      "source": []
    },
    {
      "cell_type": "code",
      "execution_count": null,
      "metadata": {},
      "outputs": [],
      "source": []
    },
    {
      "cell_type": "code",
      "execution_count": null,
      "metadata": {},
      "outputs": [],
      "source": []
    },
    {
      "cell_type": "code",
      "execution_count": null,
      "metadata": {},
      "outputs": [],
      "source": []
    },
    {
      "cell_type": "code",
      "execution_count": null,
      "metadata": {},
      "outputs": [],
      "source": []
    },
    {
      "cell_type": "code",
      "execution_count": null,
      "metadata": {},
      "outputs": [],
      "source": []
    },
    {
      "cell_type": "code",
      "execution_count": null,
      "metadata": {},
      "outputs": [],
      "source": []
    },
    {
      "cell_type": "code",
      "execution_count": null,
      "metadata": {},
      "outputs": [],
      "source": []
    },
    {
      "cell_type": "code",
      "execution_count": null,
      "metadata": {},
      "outputs": [],
      "source": []
    },
    {
      "cell_type": "code",
      "execution_count": null,
      "metadata": {},
      "outputs": [],
      "source": []
    },
    {
      "cell_type": "code",
      "execution_count": null,
      "metadata": {},
      "outputs": [],
      "source": []
    },
    {
      "cell_type": "code",
      "execution_count": null,
      "metadata": {},
      "outputs": [],
      "source": []
    },
    {
      "cell_type": "code",
      "execution_count": null,
      "metadata": {},
      "outputs": [],
      "source": []
    },
    {
      "cell_type": "code",
      "execution_count": null,
      "metadata": {},
      "outputs": [],
      "source": []
    },
    {
      "cell_type": "code",
      "execution_count": null,
      "metadata": {},
      "outputs": [],
      "source": []
    },
    {
      "cell_type": "code",
      "execution_count": null,
      "metadata": {},
      "outputs": [],
      "source": []
    },
    {
      "cell_type": "code",
      "execution_count": null,
      "metadata": {},
      "outputs": [],
      "source": []
    },
    {
      "cell_type": "code",
      "execution_count": null,
      "metadata": {},
      "outputs": [],
      "source": []
    },
    {
      "cell_type": "code",
      "execution_count": null,
      "metadata": {},
      "outputs": [],
      "source": []
    },
    {
      "cell_type": "code",
      "execution_count": null,
      "metadata": {},
      "outputs": [],
      "source": []
    },
    {
      "cell_type": "code",
      "execution_count": null,
      "metadata": {},
      "outputs": [],
      "source": []
    },
    {
      "cell_type": "code",
      "execution_count": null,
      "metadata": {},
      "outputs": [],
      "source": []
    },
    {
      "cell_type": "code",
      "execution_count": null,
      "metadata": {},
      "outputs": [],
      "source": []
    },
    {
      "cell_type": "code",
      "execution_count": null,
      "metadata": {},
      "outputs": [],
      "source": []
    },
    {
      "cell_type": "code",
      "execution_count": null,
      "metadata": {},
      "outputs": [],
      "source": []
    },
    {
      "cell_type": "code",
      "execution_count": null,
      "metadata": {},
      "outputs": [],
      "source": []
    },
    {
      "cell_type": "code",
      "execution_count": null,
      "metadata": {},
      "outputs": [],
      "source": []
    },
    {
      "cell_type": "code",
      "execution_count": null,
      "metadata": {},
      "outputs": [],
      "source": []
    },
    {
      "cell_type": "code",
      "execution_count": null,
      "metadata": {},
      "outputs": [],
      "source": []
    },
    {
      "cell_type": "code",
      "execution_count": null,
      "metadata": {},
      "outputs": [],
      "source": []
    },
    {
      "cell_type": "code",
      "execution_count": null,
      "metadata": {},
      "outputs": [],
      "source": []
    },
    {
      "cell_type": "code",
      "execution_count": null,
      "metadata": {},
      "outputs": [],
      "source": []
    },
    {
      "cell_type": "code",
      "execution_count": null,
      "metadata": {},
      "outputs": [],
      "source": []
    },
    {
      "cell_type": "code",
      "execution_count": null,
      "metadata": {},
      "outputs": [],
      "source": []
    },
    {
      "cell_type": "code",
      "execution_count": null,
      "metadata": {},
      "outputs": [],
      "source": []
    },
    {
      "cell_type": "code",
      "execution_count": null,
      "metadata": {},
      "outputs": [],
      "source": []
    },
    {
      "cell_type": "code",
      "execution_count": null,
      "metadata": {},
      "outputs": [],
      "source": []
    },
    {
      "cell_type": "code",
      "execution_count": null,
      "metadata": {},
      "outputs": [],
      "source": []
    },
    {
      "cell_type": "code",
      "execution_count": null,
      "metadata": {},
      "outputs": [],
      "source": []
    },
    {
      "cell_type": "code",
      "execution_count": null,
      "metadata": {},
      "outputs": [],
      "source": []
    },
    {
      "cell_type": "code",
      "execution_count": null,
      "metadata": {},
      "outputs": [],
      "source": []
    },
    {
      "cell_type": "code",
      "execution_count": null,
      "metadata": {},
      "outputs": [],
      "source": []
    },
    {
      "cell_type": "code",
      "execution_count": null,
      "metadata": {},
      "outputs": [],
      "source": []
    },
    {
      "cell_type": "code",
      "execution_count": null,
      "metadata": {},
      "outputs": [],
      "source": []
    },
    {
      "cell_type": "code",
      "execution_count": null,
      "metadata": {},
      "outputs": [],
      "source": []
    },
    {
      "cell_type": "code",
      "execution_count": null,
      "metadata": {},
      "outputs": [],
      "source": []
    },
    {
      "cell_type": "code",
      "execution_count": null,
      "metadata": {},
      "outputs": [],
      "source": []
    },
    {
      "cell_type": "code",
      "execution_count": null,
      "metadata": {},
      "outputs": [],
      "source": []
    },
    {
      "cell_type": "code",
      "execution_count": null,
      "metadata": {},
      "outputs": [],
      "source": []
    },
    {
      "cell_type": "code",
      "execution_count": null,
      "metadata": {},
      "outputs": [],
      "source": []
    },
    {
      "cell_type": "code",
      "execution_count": null,
      "metadata": {},
      "outputs": [],
      "source": []
    },
    {
      "cell_type": "code",
      "execution_count": null,
      "metadata": {},
      "outputs": [],
      "source": []
    },
    {
      "cell_type": "code",
      "execution_count": null,
      "metadata": {},
      "outputs": [],
      "source": []
    },
    {
      "cell_type": "code",
      "execution_count": null,
      "metadata": {},
      "outputs": [],
      "source": []
    },
    {
      "cell_type": "code",
      "execution_count": null,
      "metadata": {},
      "outputs": [],
      "source": []
    },
    {
      "cell_type": "code",
      "execution_count": null,
      "metadata": {},
      "outputs": [],
      "source": []
    },
    {
      "cell_type": "code",
      "execution_count": null,
      "metadata": {},
      "outputs": [],
      "source": []
    },
    {
      "cell_type": "code",
      "execution_count": null,
      "metadata": {},
      "outputs": [],
      "source": []
    },
    {
      "cell_type": "code",
      "execution_count": null,
      "metadata": {},
      "outputs": [],
      "source": []
    },
    {
      "cell_type": "code",
      "execution_count": null,
      "metadata": {},
      "outputs": [],
      "source": []
    },
    {
      "cell_type": "code",
      "execution_count": null,
      "metadata": {},
      "outputs": [],
      "source": []
    },
    {
      "cell_type": "code",
      "execution_count": null,
      "metadata": {},
      "outputs": [],
      "source": []
    },
    {
      "cell_type": "code",
      "execution_count": null,
      "metadata": {},
      "outputs": [],
      "source": []
    },
    {
      "cell_type": "code",
      "execution_count": null,
      "metadata": {},
      "outputs": [],
      "source": []
    },
    {
      "cell_type": "code",
      "execution_count": null,
      "metadata": {},
      "outputs": [],
      "source": []
    },
    {
      "cell_type": "code",
      "execution_count": null,
      "metadata": {},
      "outputs": [],
      "source": []
    },
    {
      "cell_type": "code",
      "execution_count": null,
      "metadata": {},
      "outputs": [],
      "source": []
    },
    {
      "cell_type": "code",
      "execution_count": null,
      "metadata": {},
      "outputs": [],
      "source": []
    },
    {
      "cell_type": "code",
      "execution_count": null,
      "metadata": {},
      "outputs": [],
      "source": []
    },
    {
      "cell_type": "code",
      "execution_count": null,
      "metadata": {},
      "outputs": [],
      "source": []
    },
    {
      "cell_type": "code",
      "execution_count": null,
      "metadata": {},
      "outputs": [],
      "source": []
    },
    {
      "cell_type": "code",
      "execution_count": null,
      "metadata": {},
      "outputs": [],
      "source": []
    },
    {
      "cell_type": "code",
      "execution_count": null,
      "metadata": {},
      "outputs": [],
      "source": []
    },
    {
      "cell_type": "code",
      "execution_count": null,
      "metadata": {},
      "outputs": [],
      "source": []
    },
    {
      "cell_type": "code",
      "execution_count": null,
      "metadata": {},
      "outputs": [],
      "source": []
    },
    {
      "cell_type": "code",
      "execution_count": null,
      "metadata": {},
      "outputs": [],
      "source": []
    },
    {
      "cell_type": "code",
      "execution_count": null,
      "metadata": {},
      "outputs": [],
      "source": []
    },
    {
      "cell_type": "code",
      "execution_count": null,
      "metadata": {},
      "outputs": [],
      "source": []
    },
    {
      "cell_type": "code",
      "execution_count": null,
      "metadata": {},
      "outputs": [],
      "source": []
    },
    {
      "cell_type": "code",
      "execution_count": null,
      "metadata": {},
      "outputs": [],
      "source": []
    },
    {
      "cell_type": "code",
      "execution_count": null,
      "metadata": {},
      "outputs": [],
      "source": []
    },
    {
      "cell_type": "code",
      "execution_count": null,
      "metadata": {},
      "outputs": [],
      "source": []
    },
    {
      "cell_type": "code",
      "execution_count": null,
      "metadata": {},
      "outputs": [],
      "source": []
    },
    {
      "cell_type": "code",
      "execution_count": null,
      "metadata": {},
      "outputs": [],
      "source": []
    },
    {
      "cell_type": "code",
      "execution_count": null,
      "metadata": {},
      "outputs": [],
      "source": []
    },
    {
      "cell_type": "code",
      "execution_count": null,
      "metadata": {},
      "outputs": [],
      "source": []
    },
    {
      "cell_type": "code",
      "execution_count": null,
      "metadata": {},
      "outputs": [],
      "source": []
    },
    {
      "cell_type": "code",
      "execution_count": null,
      "metadata": {},
      "outputs": [],
      "source": []
    },
    {
      "cell_type": "code",
      "execution_count": null,
      "metadata": {},
      "outputs": [],
      "source": []
    },
    {
      "cell_type": "code",
      "execution_count": null,
      "metadata": {},
      "outputs": [],
      "source": []
    },
    {
      "cell_type": "code",
      "execution_count": null,
      "metadata": {},
      "outputs": [],
      "source": []
    },
    {
      "cell_type": "code",
      "execution_count": null,
      "metadata": {},
      "outputs": [],
      "source": []
    },
    {
      "cell_type": "code",
      "execution_count": null,
      "metadata": {},
      "outputs": [],
      "source": []
    },
    {
      "cell_type": "code",
      "execution_count": null,
      "metadata": {},
      "outputs": [],
      "source": []
    },
    {
      "cell_type": "code",
      "execution_count": null,
      "metadata": {},
      "outputs": [],
      "source": []
    },
    {
      "cell_type": "code",
      "execution_count": null,
      "metadata": {},
      "outputs": [],
      "source": []
    },
    {
      "cell_type": "code",
      "execution_count": null,
      "metadata": {},
      "outputs": [],
      "source": []
    },
    {
      "cell_type": "code",
      "execution_count": null,
      "metadata": {},
      "outputs": [],
      "source": []
    },
    {
      "cell_type": "code",
      "execution_count": null,
      "metadata": {},
      "outputs": [],
      "source": []
    },
    {
      "cell_type": "code",
      "execution_count": null,
      "metadata": {},
      "outputs": [],
      "source": []
    },
    {
      "cell_type": "code",
      "execution_count": null,
      "metadata": {},
      "outputs": [],
      "source": []
    },
    {
      "cell_type": "code",
      "execution_count": null,
      "metadata": {},
      "outputs": [],
      "source": []
    },
    {
      "cell_type": "code",
      "execution_count": null,
      "metadata": {},
      "outputs": [],
      "source": []
    },
    {
      "cell_type": "code",
      "execution_count": null,
      "metadata": {},
      "outputs": [],
      "source": []
    },
    {
      "cell_type": "code",
      "execution_count": null,
      "metadata": {},
      "outputs": [],
      "source": []
    },
    {
      "cell_type": "code",
      "execution_count": null,
      "metadata": {},
      "outputs": [],
      "source": []
    },
    {
      "cell_type": "code",
      "execution_count": null,
      "metadata": {},
      "outputs": [],
      "source": []
    },
    {
      "cell_type": "code",
      "execution_count": null,
      "metadata": {},
      "outputs": [],
      "source": []
    },
    {
      "cell_type": "code",
      "execution_count": null,
      "metadata": {},
      "outputs": [],
      "source": []
    },
    {
      "cell_type": "code",
      "execution_count": null,
      "metadata": {},
      "outputs": [],
      "source": []
    },
    {
      "cell_type": "code",
      "execution_count": null,
      "metadata": {},
      "outputs": [],
      "source": []
    },
    {
      "cell_type": "code",
      "execution_count": null,
      "metadata": {},
      "outputs": [],
      "source": []
    },
    {
      "cell_type": "code",
      "execution_count": null,
      "metadata": {},
      "outputs": [],
      "source": []
    },
    {
      "cell_type": "code",
      "execution_count": null,
      "metadata": {},
      "outputs": [],
      "source": []
    },
    {
      "cell_type": "code",
      "execution_count": null,
      "metadata": {},
      "outputs": [],
      "source": []
    },
    {
      "cell_type": "code",
      "execution_count": null,
      "metadata": {},
      "outputs": [],
      "source": []
    },
    {
      "cell_type": "code",
      "execution_count": null,
      "metadata": {},
      "outputs": [],
      "source": []
    },
    {
      "cell_type": "code",
      "execution_count": null,
      "metadata": {},
      "outputs": [],
      "source": []
    },
    {
      "cell_type": "code",
      "execution_count": null,
      "metadata": {},
      "outputs": [],
      "source": []
    },
    {
      "cell_type": "code",
      "execution_count": null,
      "metadata": {},
      "outputs": [],
      "source": []
    },
    {
      "cell_type": "code",
      "execution_count": null,
      "metadata": {},
      "outputs": [],
      "source": []
    },
    {
      "cell_type": "code",
      "execution_count": null,
      "metadata": {},
      "outputs": [],
      "source": []
    },
    {
      "cell_type": "code",
      "execution_count": null,
      "metadata": {},
      "outputs": [],
      "source": []
    },
    {
      "cell_type": "code",
      "execution_count": null,
      "metadata": {},
      "outputs": [],
      "source": []
    },
    {
      "cell_type": "code",
      "execution_count": null,
      "metadata": {},
      "outputs": [],
      "source": []
    },
    {
      "cell_type": "code",
      "execution_count": null,
      "metadata": {},
      "outputs": [],
      "source": []
    },
    {
      "cell_type": "code",
      "execution_count": null,
      "metadata": {},
      "outputs": [],
      "source": []
    },
    {
      "cell_type": "code",
      "execution_count": null,
      "metadata": {},
      "outputs": [],
      "source": []
    },
    {
      "cell_type": "code",
      "execution_count": null,
      "metadata": {},
      "outputs": [],
      "source": []
    },
    {
      "cell_type": "code",
      "execution_count": null,
      "metadata": {},
      "outputs": [],
      "source": []
    },
    {
      "cell_type": "code",
      "execution_count": null,
      "metadata": {},
      "outputs": [],
      "source": []
    },
    {
      "cell_type": "code",
      "execution_count": null,
      "metadata": {},
      "outputs": [],
      "source": []
    },
    {
      "cell_type": "code",
      "execution_count": null,
      "metadata": {},
      "outputs": [],
      "source": []
    },
    {
      "cell_type": "code",
      "execution_count": null,
      "metadata": {},
      "outputs": [],
      "source": []
    },
    {
      "cell_type": "code",
      "execution_count": null,
      "metadata": {},
      "outputs": [],
      "source": []
    },
    {
      "cell_type": "code",
      "execution_count": null,
      "metadata": {},
      "outputs": [],
      "source": []
    },
    {
      "cell_type": "code",
      "execution_count": null,
      "metadata": {},
      "outputs": [],
      "source": []
    },
    {
      "cell_type": "code",
      "execution_count": null,
      "metadata": {},
      "outputs": [],
      "source": []
    },
    {
      "cell_type": "code",
      "execution_count": null,
      "metadata": {},
      "outputs": [],
      "source": []
    },
    {
      "cell_type": "code",
      "execution_count": null,
      "metadata": {},
      "outputs": [],
      "source": []
    },
    {
      "cell_type": "code",
      "execution_count": null,
      "metadata": {},
      "outputs": [],
      "source": []
    },
    {
      "cell_type": "code",
      "execution_count": null,
      "metadata": {},
      "outputs": [],
      "source": []
    },
    {
      "cell_type": "code",
      "execution_count": null,
      "metadata": {},
      "outputs": [],
      "source": []
    },
    {
      "cell_type": "code",
      "execution_count": null,
      "metadata": {},
      "outputs": [],
      "source": []
    },
    {
      "cell_type": "code",
      "execution_count": null,
      "metadata": {},
      "outputs": [],
      "source": []
    },
    {
      "cell_type": "code",
      "execution_count": null,
      "metadata": {},
      "outputs": [],
      "source": []
    },
    {
      "cell_type": "code",
      "execution_count": null,
      "metadata": {},
      "outputs": [],
      "source": []
    },
    {
      "cell_type": "code",
      "execution_count": null,
      "metadata": {},
      "outputs": [],
      "source": []
    },
    {
      "cell_type": "code",
      "execution_count": null,
      "metadata": {},
      "outputs": [],
      "source": []
    },
    {
      "cell_type": "code",
      "execution_count": null,
      "metadata": {},
      "outputs": [],
      "source": []
    },
    {
      "cell_type": "code",
      "execution_count": null,
      "metadata": {},
      "outputs": [],
      "source": []
    },
    {
      "cell_type": "code",
      "execution_count": null,
      "metadata": {},
      "outputs": [],
      "source": []
    },
    {
      "cell_type": "code",
      "execution_count": null,
      "metadata": {},
      "outputs": [],
      "source": []
    },
    {
      "cell_type": "code",
      "execution_count": null,
      "metadata": {},
      "outputs": [],
      "source": []
    },
    {
      "cell_type": "code",
      "execution_count": null,
      "metadata": {},
      "outputs": [],
      "source": []
    },
    {
      "cell_type": "code",
      "execution_count": null,
      "metadata": {},
      "outputs": [],
      "source": []
    },
    {
      "cell_type": "code",
      "execution_count": null,
      "metadata": {},
      "outputs": [],
      "source": []
    },
    {
      "cell_type": "code",
      "execution_count": null,
      "metadata": {},
      "outputs": [],
      "source": []
    },
    {
      "cell_type": "code",
      "execution_count": null,
      "metadata": {},
      "outputs": [],
      "source": []
    },
    {
      "cell_type": "code",
      "execution_count": null,
      "metadata": {},
      "outputs": [],
      "source": []
    },
    {
      "cell_type": "code",
      "execution_count": null,
      "metadata": {},
      "outputs": [],
      "source": []
    },
    {
      "cell_type": "code",
      "execution_count": null,
      "metadata": {},
      "outputs": [],
      "source": []
    },
    {
      "cell_type": "code",
      "execution_count": null,
      "metadata": {},
      "outputs": [],
      "source": []
    },
    {
      "cell_type": "code",
      "execution_count": null,
      "metadata": {},
      "outputs": [],
      "source": []
    },
    {
      "cell_type": "code",
      "execution_count": null,
      "metadata": {},
      "outputs": [],
      "source": []
    },
    {
      "cell_type": "code",
      "execution_count": null,
      "metadata": {},
      "outputs": [],
      "source": []
    },
    {
      "cell_type": "code",
      "execution_count": null,
      "metadata": {},
      "outputs": [],
      "source": []
    },
    {
      "cell_type": "code",
      "execution_count": null,
      "metadata": {},
      "outputs": [],
      "source": []
    },
    {
      "cell_type": "code",
      "execution_count": null,
      "metadata": {},
      "outputs": [],
      "source": []
    },
    {
      "cell_type": "code",
      "execution_count": null,
      "metadata": {},
      "outputs": [],
      "source": []
    },
    {
      "cell_type": "code",
      "execution_count": 16,
      "metadata": {},
      "outputs": [
        {
          "ename": "SyntaxError",
          "evalue": "invalid syntax (2419068954.py, line 1)",
          "output_type": "error",
          "traceback": [
            "\u001b[0;36m  Cell \u001b[0;32mIn[16], line 1\u001b[0;36m\u001b[0m\n\u001b[0;31m    ณซ.\u001b[0m\n\u001b[0m       ^\u001b[0m\n\u001b[0;31mSyntaxError\u001b[0m\u001b[0;31m:\u001b[0m invalid syntax\n"
          ]
        }
      ],
      "source": [
        "ณซ."
      ]
    },
    {
      "cell_type": "code",
      "execution_count": null,
      "metadata": {},
      "outputs": [],
      "source": []
    },
    {
      "cell_type": "code",
      "execution_count": null,
      "metadata": {},
      "outputs": [],
      "source": []
    },
    {
      "cell_type": "code",
      "execution_count": null,
      "metadata": {},
      "outputs": [],
      "source": []
    },
    {
      "cell_type": "code",
      "execution_count": null,
      "metadata": {},
      "outputs": [],
      "source": []
    },
    {
      "cell_type": "code",
      "execution_count": null,
      "metadata": {},
      "outputs": [],
      "source": []
    },
    {
      "cell_type": "code",
      "execution_count": null,
      "metadata": {},
      "outputs": [],
      "source": []
    },
    {
      "cell_type": "code",
      "execution_count": null,
      "metadata": {},
      "outputs": [],
      "source": []
    },
    {
      "cell_type": "code",
      "execution_count": null,
      "metadata": {},
      "outputs": [],
      "source": []
    },
    {
      "cell_type": "code",
      "execution_count": null,
      "metadata": {},
      "outputs": [],
      "source": []
    },
    {
      "cell_type": "code",
      "execution_count": null,
      "metadata": {},
      "outputs": [],
      "source": []
    },
    {
      "cell_type": "code",
      "execution_count": null,
      "metadata": {},
      "outputs": [],
      "source": []
    },
    {
      "cell_type": "code",
      "execution_count": null,
      "metadata": {},
      "outputs": [],
      "source": []
    },
    {
      "cell_type": "code",
      "execution_count": null,
      "metadata": {},
      "outputs": [],
      "source": []
    },
    {
      "cell_type": "code",
      "execution_count": null,
      "metadata": {},
      "outputs": [],
      "source": []
    },
    {
      "cell_type": "code",
      "execution_count": null,
      "metadata": {},
      "outputs": [],
      "source": []
    },
    {
      "cell_type": "code",
      "execution_count": null,
      "metadata": {},
      "outputs": [],
      "source": []
    },
    {
      "cell_type": "code",
      "execution_count": null,
      "metadata": {},
      "outputs": [],
      "source": []
    },
    {
      "cell_type": "code",
      "execution_count": null,
      "metadata": {},
      "outputs": [],
      "source": []
    },
    {
      "cell_type": "code",
      "execution_count": null,
      "metadata": {},
      "outputs": [],
      "source": []
    },
    {
      "cell_type": "code",
      "execution_count": null,
      "metadata": {},
      "outputs": [],
      "source": []
    },
    {
      "cell_type": "code",
      "execution_count": null,
      "metadata": {},
      "outputs": [],
      "source": []
    },
    {
      "cell_type": "code",
      "execution_count": null,
      "metadata": {},
      "outputs": [],
      "source": []
    },
    {
      "cell_type": "code",
      "execution_count": null,
      "metadata": {},
      "outputs": [],
      "source": []
    },
    {
      "cell_type": "code",
      "execution_count": null,
      "metadata": {},
      "outputs": [],
      "source": []
    },
    {
      "cell_type": "code",
      "execution_count": null,
      "metadata": {},
      "outputs": [],
      "source": []
    },
    {
      "cell_type": "code",
      "execution_count": null,
      "metadata": {},
      "outputs": [],
      "source": []
    },
    {
      "cell_type": "code",
      "execution_count": null,
      "metadata": {},
      "outputs": [],
      "source": []
    },
    {
      "cell_type": "code",
      "execution_count": null,
      "metadata": {},
      "outputs": [],
      "source": []
    },
    {
      "cell_type": "code",
      "execution_count": null,
      "metadata": {},
      "outputs": [],
      "source": []
    },
    {
      "cell_type": "code",
      "execution_count": null,
      "metadata": {},
      "outputs": [],
      "source": []
    },
    {
      "cell_type": "code",
      "execution_count": null,
      "metadata": {},
      "outputs": [],
      "source": []
    },
    {
      "cell_type": "code",
      "execution_count": null,
      "metadata": {},
      "outputs": [],
      "source": []
    },
    {
      "cell_type": "code",
      "execution_count": null,
      "metadata": {},
      "outputs": [],
      "source": []
    },
    {
      "cell_type": "code",
      "execution_count": null,
      "metadata": {},
      "outputs": [],
      "source": []
    },
    {
      "cell_type": "code",
      "execution_count": null,
      "metadata": {},
      "outputs": [],
      "source": []
    },
    {
      "cell_type": "code",
      "execution_count": null,
      "metadata": {},
      "outputs": [],
      "source": []
    },
    {
      "cell_type": "code",
      "execution_count": null,
      "metadata": {},
      "outputs": [],
      "source": []
    },
    {
      "cell_type": "code",
      "execution_count": null,
      "metadata": {},
      "outputs": [],
      "source": []
    },
    {
      "cell_type": "code",
      "execution_count": null,
      "metadata": {},
      "outputs": [],
      "source": []
    },
    {
      "cell_type": "code",
      "execution_count": null,
      "metadata": {},
      "outputs": [],
      "source": []
    },
    {
      "cell_type": "code",
      "execution_count": null,
      "metadata": {},
      "outputs": [],
      "source": []
    },
    {
      "cell_type": "code",
      "execution_count": null,
      "metadata": {},
      "outputs": [],
      "source": []
    },
    {
      "cell_type": "code",
      "execution_count": null,
      "metadata": {},
      "outputs": [],
      "source": []
    },
    {
      "cell_type": "code",
      "execution_count": null,
      "metadata": {},
      "outputs": [],
      "source": []
    },
    {
      "cell_type": "code",
      "execution_count": null,
      "metadata": {},
      "outputs": [],
      "source": []
    },
    {
      "cell_type": "code",
      "execution_count": null,
      "metadata": {},
      "outputs": [],
      "source": []
    },
    {
      "cell_type": "code",
      "execution_count": null,
      "metadata": {},
      "outputs": [],
      "source": []
    },
    {
      "cell_type": "code",
      "execution_count": null,
      "metadata": {},
      "outputs": [],
      "source": []
    },
    {
      "cell_type": "code",
      "execution_count": null,
      "metadata": {},
      "outputs": [],
      "source": []
    },
    {
      "cell_type": "code",
      "execution_count": null,
      "metadata": {},
      "outputs": [],
      "source": []
    },
    {
      "cell_type": "code",
      "execution_count": null,
      "metadata": {},
      "outputs": [],
      "source": []
    },
    {
      "cell_type": "code",
      "execution_count": null,
      "metadata": {},
      "outputs": [],
      "source": []
    },
    {
      "cell_type": "code",
      "execution_count": null,
      "metadata": {},
      "outputs": [],
      "source": []
    },
    {
      "cell_type": "code",
      "execution_count": null,
      "metadata": {},
      "outputs": [],
      "source": []
    },
    {
      "cell_type": "code",
      "execution_count": null,
      "metadata": {},
      "outputs": [],
      "source": []
    },
    {
      "cell_type": "code",
      "execution_count": null,
      "metadata": {},
      "outputs": [],
      "source": []
    },
    {
      "cell_type": "code",
      "execution_count": null,
      "metadata": {},
      "outputs": [],
      "source": []
    },
    {
      "cell_type": "code",
      "execution_count": null,
      "metadata": {},
      "outputs": [],
      "source": []
    },
    {
      "cell_type": "code",
      "execution_count": null,
      "metadata": {},
      "outputs": [],
      "source": []
    },
    {
      "cell_type": "code",
      "execution_count": null,
      "metadata": {},
      "outputs": [],
      "source": []
    },
    {
      "cell_type": "code",
      "execution_count": null,
      "metadata": {},
      "outputs": [],
      "source": []
    },
    {
      "cell_type": "code",
      "execution_count": null,
      "metadata": {},
      "outputs": [],
      "source": []
    },
    {
      "cell_type": "code",
      "execution_count": null,
      "metadata": {},
      "outputs": [],
      "source": []
    },
    {
      "cell_type": "code",
      "execution_count": null,
      "metadata": {},
      "outputs": [],
      "source": []
    },
    {
      "cell_type": "code",
      "execution_count": null,
      "metadata": {},
      "outputs": [],
      "source": []
    },
    {
      "cell_type": "code",
      "execution_count": null,
      "metadata": {},
      "outputs": [],
      "source": []
    },
    {
      "cell_type": "code",
      "execution_count": null,
      "metadata": {},
      "outputs": [],
      "source": []
    },
    {
      "cell_type": "code",
      "execution_count": null,
      "metadata": {},
      "outputs": [],
      "source": []
    },
    {
      "cell_type": "code",
      "execution_count": null,
      "metadata": {},
      "outputs": [],
      "source": []
    },
    {
      "cell_type": "code",
      "execution_count": null,
      "metadata": {},
      "outputs": [],
      "source": []
    },
    {
      "cell_type": "code",
      "execution_count": null,
      "metadata": {},
      "outputs": [],
      "source": []
    },
    {
      "cell_type": "code",
      "execution_count": null,
      "metadata": {},
      "outputs": [],
      "source": []
    },
    {
      "cell_type": "code",
      "execution_count": null,
      "metadata": {},
      "outputs": [],
      "source": []
    },
    {
      "cell_type": "code",
      "execution_count": null,
      "metadata": {},
      "outputs": [],
      "source": []
    },
    {
      "cell_type": "code",
      "execution_count": null,
      "metadata": {},
      "outputs": [],
      "source": []
    },
    {
      "cell_type": "code",
      "execution_count": null,
      "metadata": {},
      "outputs": [],
      "source": []
    },
    {
      "cell_type": "code",
      "execution_count": null,
      "metadata": {},
      "outputs": [],
      "source": []
    },
    {
      "cell_type": "code",
      "execution_count": null,
      "metadata": {},
      "outputs": [],
      "source": []
    },
    {
      "cell_type": "code",
      "execution_count": null,
      "metadata": {},
      "outputs": [],
      "source": []
    },
    {
      "cell_type": "code",
      "execution_count": null,
      "metadata": {},
      "outputs": [],
      "source": []
    },
    {
      "cell_type": "code",
      "execution_count": null,
      "metadata": {},
      "outputs": [],
      "source": []
    },
    {
      "cell_type": "code",
      "execution_count": null,
      "metadata": {},
      "outputs": [],
      "source": []
    },
    {
      "cell_type": "code",
      "execution_count": null,
      "metadata": {},
      "outputs": [],
      "source": []
    },
    {
      "cell_type": "code",
      "execution_count": null,
      "metadata": {},
      "outputs": [],
      "source": []
    },
    {
      "cell_type": "code",
      "execution_count": null,
      "metadata": {},
      "outputs": [],
      "source": []
    },
    {
      "cell_type": "code",
      "execution_count": null,
      "metadata": {},
      "outputs": [],
      "source": []
    },
    {
      "cell_type": "code",
      "execution_count": null,
      "metadata": {},
      "outputs": [],
      "source": []
    },
    {
      "cell_type": "code",
      "execution_count": null,
      "metadata": {},
      "outputs": [],
      "source": []
    },
    {
      "cell_type": "code",
      "execution_count": null,
      "metadata": {},
      "outputs": [],
      "source": []
    },
    {
      "cell_type": "code",
      "execution_count": null,
      "metadata": {},
      "outputs": [],
      "source": []
    },
    {
      "cell_type": "code",
      "execution_count": null,
      "metadata": {},
      "outputs": [],
      "source": []
    },
    {
      "cell_type": "code",
      "execution_count": null,
      "metadata": {},
      "outputs": [],
      "source": []
    },
    {
      "cell_type": "code",
      "execution_count": null,
      "metadata": {},
      "outputs": [],
      "source": []
    },
    {
      "cell_type": "code",
      "execution_count": null,
      "metadata": {},
      "outputs": [],
      "source": []
    },
    {
      "cell_type": "code",
      "execution_count": null,
      "metadata": {},
      "outputs": [],
      "source": []
    },
    {
      "cell_type": "code",
      "execution_count": null,
      "metadata": {},
      "outputs": [],
      "source": []
    },
    {
      "cell_type": "code",
      "execution_count": null,
      "metadata": {},
      "outputs": [],
      "source": []
    },
    {
      "cell_type": "code",
      "execution_count": null,
      "metadata": {},
      "outputs": [],
      "source": []
    },
    {
      "cell_type": "code",
      "execution_count": null,
      "metadata": {},
      "outputs": [],
      "source": []
    },
    {
      "cell_type": "code",
      "execution_count": null,
      "metadata": {},
      "outputs": [],
      "source": []
    },
    {
      "cell_type": "code",
      "execution_count": null,
      "metadata": {},
      "outputs": [],
      "source": []
    },
    {
      "cell_type": "code",
      "execution_count": null,
      "metadata": {},
      "outputs": [],
      "source": []
    },
    {
      "cell_type": "code",
      "execution_count": null,
      "metadata": {},
      "outputs": [],
      "source": []
    },
    {
      "cell_type": "code",
      "execution_count": null,
      "metadata": {},
      "outputs": [],
      "source": []
    },
    {
      "cell_type": "code",
      "execution_count": null,
      "metadata": {},
      "outputs": [],
      "source": []
    },
    {
      "cell_type": "code",
      "execution_count": null,
      "metadata": {},
      "outputs": [],
      "source": []
    },
    {
      "cell_type": "code",
      "execution_count": null,
      "metadata": {},
      "outputs": [],
      "source": []
    },
    {
      "cell_type": "code",
      "execution_count": null,
      "metadata": {},
      "outputs": [],
      "source": []
    },
    {
      "cell_type": "code",
      "execution_count": null,
      "metadata": {},
      "outputs": [],
      "source": []
    },
    {
      "cell_type": "code",
      "execution_count": null,
      "metadata": {},
      "outputs": [],
      "source": []
    },
    {
      "cell_type": "code",
      "execution_count": null,
      "metadata": {},
      "outputs": [],
      "source": []
    },
    {
      "cell_type": "code",
      "execution_count": null,
      "metadata": {},
      "outputs": [],
      "source": []
    },
    {
      "cell_type": "code",
      "execution_count": null,
      "metadata": {},
      "outputs": [],
      "source": []
    },
    {
      "cell_type": "code",
      "execution_count": null,
      "metadata": {},
      "outputs": [],
      "source": []
    },
    {
      "cell_type": "code",
      "execution_count": null,
      "metadata": {},
      "outputs": [],
      "source": []
    },
    {
      "cell_type": "code",
      "execution_count": null,
      "metadata": {},
      "outputs": [],
      "source": []
    },
    {
      "cell_type": "code",
      "execution_count": null,
      "metadata": {},
      "outputs": [],
      "source": []
    },
    {
      "cell_type": "code",
      "execution_count": null,
      "metadata": {},
      "outputs": [],
      "source": []
    },
    {
      "cell_type": "code",
      "execution_count": null,
      "metadata": {},
      "outputs": [],
      "source": []
    },
    {
      "cell_type": "code",
      "execution_count": null,
      "metadata": {},
      "outputs": [],
      "source": []
    },
    {
      "cell_type": "code",
      "execution_count": null,
      "metadata": {},
      "outputs": [],
      "source": []
    },
    {
      "cell_type": "code",
      "execution_count": null,
      "metadata": {},
      "outputs": [],
      "source": []
    },
    {
      "cell_type": "code",
      "execution_count": null,
      "metadata": {},
      "outputs": [],
      "source": []
    },
    {
      "cell_type": "code",
      "execution_count": null,
      "metadata": {},
      "outputs": [],
      "source": []
    },
    {
      "cell_type": "code",
      "execution_count": null,
      "metadata": {},
      "outputs": [],
      "source": []
    },
    {
      "cell_type": "code",
      "execution_count": null,
      "metadata": {},
      "outputs": [],
      "source": []
    },
    {
      "cell_type": "code",
      "execution_count": null,
      "metadata": {},
      "outputs": [],
      "source": []
    },
    {
      "cell_type": "code",
      "execution_count": null,
      "metadata": {},
      "outputs": [],
      "source": []
    },
    {
      "cell_type": "code",
      "execution_count": null,
      "metadata": {},
      "outputs": [],
      "source": []
    },
    {
      "cell_type": "code",
      "execution_count": null,
      "metadata": {},
      "outputs": [],
      "source": []
    },
    {
      "cell_type": "code",
      "execution_count": null,
      "metadata": {},
      "outputs": [],
      "source": []
    },
    {
      "cell_type": "code",
      "execution_count": null,
      "metadata": {},
      "outputs": [],
      "source": []
    },
    {
      "cell_type": "code",
      "execution_count": null,
      "metadata": {},
      "outputs": [],
      "source": []
    },
    {
      "cell_type": "code",
      "execution_count": null,
      "metadata": {},
      "outputs": [],
      "source": []
    },
    {
      "cell_type": "code",
      "execution_count": null,
      "metadata": {},
      "outputs": [],
      "source": []
    },
    {
      "cell_type": "code",
      "execution_count": null,
      "metadata": {},
      "outputs": [],
      "source": []
    },
    {
      "cell_type": "code",
      "execution_count": null,
      "metadata": {},
      "outputs": [],
      "source": []
    },
    {
      "cell_type": "code",
      "execution_count": null,
      "metadata": {},
      "outputs": [],
      "source": []
    },
    {
      "cell_type": "code",
      "execution_count": null,
      "metadata": {},
      "outputs": [],
      "source": []
    },
    {
      "cell_type": "code",
      "execution_count": null,
      "metadata": {},
      "outputs": [],
      "source": []
    },
    {
      "cell_type": "code",
      "execution_count": null,
      "metadata": {},
      "outputs": [],
      "source": []
    },
    {
      "cell_type": "code",
      "execution_count": null,
      "metadata": {},
      "outputs": [],
      "source": []
    },
    {
      "cell_type": "code",
      "execution_count": null,
      "metadata": {},
      "outputs": [],
      "source": []
    },
    {
      "cell_type": "code",
      "execution_count": null,
      "metadata": {},
      "outputs": [],
      "source": []
    },
    {
      "cell_type": "code",
      "execution_count": null,
      "metadata": {},
      "outputs": [],
      "source": []
    },
    {
      "cell_type": "code",
      "execution_count": null,
      "metadata": {},
      "outputs": [],
      "source": []
    },
    {
      "cell_type": "code",
      "execution_count": null,
      "metadata": {},
      "outputs": [],
      "source": []
    },
    {
      "cell_type": "code",
      "execution_count": null,
      "metadata": {},
      "outputs": [],
      "source": []
    },
    {
      "cell_type": "code",
      "execution_count": null,
      "metadata": {},
      "outputs": [],
      "source": []
    },
    {
      "cell_type": "code",
      "execution_count": null,
      "metadata": {},
      "outputs": [],
      "source": []
    },
    {
      "cell_type": "code",
      "execution_count": null,
      "metadata": {},
      "outputs": [],
      "source": []
    },
    {
      "cell_type": "code",
      "execution_count": null,
      "metadata": {},
      "outputs": [],
      "source": []
    },
    {
      "cell_type": "code",
      "execution_count": null,
      "metadata": {},
      "outputs": [],
      "source": []
    },
    {
      "cell_type": "code",
      "execution_count": null,
      "metadata": {},
      "outputs": [],
      "source": []
    },
    {
      "cell_type": "code",
      "execution_count": null,
      "metadata": {},
      "outputs": [],
      "source": []
    },
    {
      "cell_type": "code",
      "execution_count": null,
      "metadata": {},
      "outputs": [],
      "source": []
    },
    {
      "cell_type": "code",
      "execution_count": null,
      "metadata": {},
      "outputs": [],
      "source": []
    },
    {
      "cell_type": "code",
      "execution_count": null,
      "metadata": {},
      "outputs": [],
      "source": []
    },
    {
      "cell_type": "code",
      "execution_count": null,
      "metadata": {},
      "outputs": [],
      "source": []
    },
    {
      "cell_type": "code",
      "execution_count": null,
      "metadata": {},
      "outputs": [],
      "source": []
    },
    {
      "cell_type": "code",
      "execution_count": null,
      "metadata": {},
      "outputs": [],
      "source": []
    },
    {
      "cell_type": "code",
      "execution_count": null,
      "metadata": {},
      "outputs": [],
      "source": []
    },
    {
      "cell_type": "code",
      "execution_count": null,
      "metadata": {},
      "outputs": [],
      "source": []
    },
    {
      "cell_type": "code",
      "execution_count": null,
      "metadata": {},
      "outputs": [],
      "source": []
    },
    {
      "cell_type": "code",
      "execution_count": null,
      "metadata": {},
      "outputs": [],
      "source": []
    },
    {
      "cell_type": "code",
      "execution_count": null,
      "metadata": {},
      "outputs": [],
      "source": []
    },
    {
      "cell_type": "code",
      "execution_count": null,
      "metadata": {},
      "outputs": [],
      "source": []
    },
    {
      "cell_type": "code",
      "execution_count": null,
      "metadata": {},
      "outputs": [],
      "source": []
    },
    {
      "cell_type": "code",
      "execution_count": null,
      "metadata": {},
      "outputs": [],
      "source": []
    },
    {
      "cell_type": "code",
      "execution_count": null,
      "metadata": {},
      "outputs": [],
      "source": []
    },
    {
      "cell_type": "code",
      "execution_count": null,
      "metadata": {},
      "outputs": [],
      "source": []
    },
    {
      "cell_type": "code",
      "execution_count": null,
      "metadata": {},
      "outputs": [],
      "source": []
    },
    {
      "cell_type": "code",
      "execution_count": null,
      "metadata": {},
      "outputs": [],
      "source": []
    },
    {
      "cell_type": "code",
      "execution_count": null,
      "metadata": {},
      "outputs": [],
      "source": []
    },
    {
      "cell_type": "code",
      "execution_count": null,
      "metadata": {},
      "outputs": [],
      "source": []
    },
    {
      "cell_type": "code",
      "execution_count": null,
      "metadata": {},
      "outputs": [],
      "source": []
    },
    {
      "cell_type": "code",
      "execution_count": null,
      "metadata": {},
      "outputs": [],
      "source": []
    },
    {
      "cell_type": "code",
      "execution_count": null,
      "metadata": {},
      "outputs": [],
      "source": []
    },
    {
      "cell_type": "code",
      "execution_count": null,
      "metadata": {},
      "outputs": [],
      "source": []
    },
    {
      "cell_type": "code",
      "execution_count": null,
      "metadata": {},
      "outputs": [],
      "source": []
    },
    {
      "cell_type": "code",
      "execution_count": null,
      "metadata": {},
      "outputs": [],
      "source": []
    },
    {
      "cell_type": "code",
      "execution_count": null,
      "metadata": {},
      "outputs": [],
      "source": []
    },
    {
      "cell_type": "code",
      "execution_count": null,
      "metadata": {},
      "outputs": [],
      "source": []
    },
    {
      "cell_type": "code",
      "execution_count": null,
      "metadata": {},
      "outputs": [],
      "source": []
    },
    {
      "cell_type": "code",
      "execution_count": null,
      "metadata": {},
      "outputs": [],
      "source": []
    },
    {
      "cell_type": "code",
      "execution_count": null,
      "metadata": {},
      "outputs": [],
      "source": []
    },
    {
      "cell_type": "code",
      "execution_count": null,
      "metadata": {},
      "outputs": [],
      "source": []
    },
    {
      "cell_type": "code",
      "execution_count": null,
      "metadata": {},
      "outputs": [],
      "source": []
    },
    {
      "cell_type": "code",
      "execution_count": null,
      "metadata": {},
      "outputs": [],
      "source": []
    },
    {
      "cell_type": "code",
      "execution_count": null,
      "metadata": {},
      "outputs": [],
      "source": []
    },
    {
      "cell_type": "code",
      "execution_count": null,
      "metadata": {},
      "outputs": [],
      "source": []
    },
    {
      "cell_type": "code",
      "execution_count": null,
      "metadata": {},
      "outputs": [],
      "source": []
    },
    {
      "cell_type": "code",
      "execution_count": null,
      "metadata": {},
      "outputs": [],
      "source": []
    },
    {
      "cell_type": "code",
      "execution_count": null,
      "metadata": {},
      "outputs": [],
      "source": []
    },
    {
      "cell_type": "code",
      "execution_count": null,
      "metadata": {},
      "outputs": [],
      "source": []
    },
    {
      "cell_type": "code",
      "execution_count": null,
      "metadata": {},
      "outputs": [],
      "source": []
    },
    {
      "cell_type": "code",
      "execution_count": null,
      "metadata": {},
      "outputs": [],
      "source": []
    },
    {
      "cell_type": "code",
      "execution_count": null,
      "metadata": {},
      "outputs": [],
      "source": []
    },
    {
      "cell_type": "code",
      "execution_count": null,
      "metadata": {},
      "outputs": [],
      "source": []
    },
    {
      "cell_type": "code",
      "execution_count": null,
      "metadata": {},
      "outputs": [],
      "source": []
    },
    {
      "cell_type": "code",
      "execution_count": null,
      "metadata": {},
      "outputs": [],
      "source": []
    },
    {
      "cell_type": "code",
      "execution_count": null,
      "metadata": {},
      "outputs": [],
      "source": []
    },
    {
      "cell_type": "code",
      "execution_count": null,
      "metadata": {},
      "outputs": [],
      "source": []
    },
    {
      "cell_type": "code",
      "execution_count": null,
      "metadata": {},
      "outputs": [],
      "source": []
    },
    {
      "cell_type": "code",
      "execution_count": null,
      "metadata": {},
      "outputs": [],
      "source": []
    },
    {
      "cell_type": "code",
      "execution_count": null,
      "metadata": {},
      "outputs": [],
      "source": []
    },
    {
      "cell_type": "code",
      "execution_count": null,
      "metadata": {},
      "outputs": [],
      "source": []
    },
    {
      "cell_type": "code",
      "execution_count": null,
      "metadata": {},
      "outputs": [],
      "source": []
    },
    {
      "cell_type": "code",
      "execution_count": null,
      "metadata": {},
      "outputs": [],
      "source": []
    },
    {
      "cell_type": "code",
      "execution_count": null,
      "metadata": {},
      "outputs": [],
      "source": []
    },
    {
      "cell_type": "code",
      "execution_count": null,
      "metadata": {},
      "outputs": [],
      "source": []
    },
    {
      "cell_type": "code",
      "execution_count": null,
      "metadata": {},
      "outputs": [],
      "source": []
    },
    {
      "cell_type": "code",
      "execution_count": null,
      "metadata": {},
      "outputs": [],
      "source": []
    },
    {
      "cell_type": "code",
      "execution_count": null,
      "metadata": {},
      "outputs": [],
      "source": []
    }
  ],
  "metadata": {
    "kernel_info": {
      "name": "python310-sdkv2"
    },
    "kernelspec": {
      "display_name": "Python 3",
      "language": "python",
      "name": "python3"
    },
    "language_info": {
      "codemirror_mode": {
        "name": "ipython",
        "version": 3
      },
      "file_extension": ".py",
      "mimetype": "text/x-python",
      "name": "python",
      "nbconvert_exporter": "python",
      "pygments_lexer": "ipython3",
      "version": "3.9.6"
    },
    "microsoft": {
      "host": {
        "AzureML": {
          "notebookHasBeenCompleted": true
        }
      },
      "ms_spell_check": {
        "ms_spell_check_language": "en"
      }
    },
    "nteract": {
      "version": "nteract-front-end@1.0.0"
    },
    "orig_nbformat": 4
  },
  "nbformat": 4,
  "nbformat_minor": 2
}
